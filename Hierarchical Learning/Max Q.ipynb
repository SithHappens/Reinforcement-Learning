{
 "cells": [
  {
   "cell_type": "markdown",
   "metadata": {},
   "source": [
    "# Max Q"
   ]
  },
  {
   "cell_type": "code",
   "execution_count": 1,
   "metadata": {},
   "outputs": [],
   "source": [
    "import numpy as np\n",
    "import matplotlib.pyplot as plt\n",
    "\n",
    "# This prints the output of all variables, not just the last one\n",
    "from IPython.core.interactiveshell import InteractiveShell\n",
    "InteractiveShell.ast_node_interactivity = \"all\"\n",
    "\n",
    "# This makes plots with higher resolutions\n",
    "%config InlineBackend.figure_format ='retina'\n",
    "plt.rcParams[\"figure.figsize\"] = (20,10)"
   ]
  },
  {
   "cell_type": "code",
   "execution_count": 2,
   "metadata": {},
   "outputs": [
    {
     "data": {
      "text/plain": [
       "State(x=5, y=6)"
      ]
     },
     "execution_count": 2,
     "metadata": {},
     "output_type": "execute_result"
    }
   ],
   "source": [
    "#from dataclasses import dataclass\n",
    "\n",
    "# TODO This should be a dataclass\n",
    "class State:\n",
    "    \"\"\" State should be Immutable.\n",
    "        States with the same variables and same values are equal and have the same hash.\n",
    "    \"\"\"\n",
    "    def __init__(self, variables):\n",
    "        ''' variables should be a dict\n",
    "        '''\n",
    "        for var, value in variables.items():\n",
    "            setattr(self, var, value)\n",
    "\n",
    "    def get(self):\n",
    "        return dict(self.__dict__.items())\n",
    "\n",
    "    def __str__(self):\n",
    "        s = 'State('\n",
    "        for key, value in self.get().items():\n",
    "            s += str(key) + '=' + str(value) + ', '\n",
    "        s = s[:-2] + ')'\n",
    "        return s\n",
    "\n",
    "    def __repr__(self):\n",
    "        return str(self)\n",
    "\n",
    "    def __eq__(self, other):\n",
    "        return self.get() == other.get()\n",
    "\n",
    "    def __ne__(self, other):\n",
    "        return not(self == other)\n",
    "    \n",
    "    def __add__(self, other):\n",
    "        return State({**self.get(), **other.get()})\n",
    "\n",
    "    def __hash__(self):\n",
    "        variables = tuple([i for var in self.get().items() for i in var])\n",
    "        return hash(variables)\n",
    "\n",
    "State({'x': 5, 'y': 6})"
   ]
  },
  {
   "cell_type": "code",
   "execution_count": 22,
   "metadata": {},
   "outputs": [],
   "source": [
    "light_grey = [200,200,200]\n",
    "darker_grey = [0.6,0.6,0.6]\n",
    "yellow = [1,1,0]\n",
    "blue = [100/255,200/255,1]\n",
    "green = [50/255, 1, 100/255]"
   ]
  },
  {
   "cell_type": "code",
   "execution_count": 23,
   "metadata": {},
   "outputs": [],
   "source": [
    "class GridEnv:\n",
    "    \n",
    "    def __init__(self, height=10, width=10):        \n",
    "        self.width, self.height = width, height\n",
    "\n",
    "    def render(self, task=None, ax=None):\n",
    "        if ax is None:\n",
    "            ax = plt.gca()\n",
    "\n",
    "        ax.clear()\n",
    "        ax.title.set_text('Grid Env')\n",
    "\n",
    "        # Plot the grid\n",
    "        grid = [[ light_grey for i in range(self.width)] for j in range(self.height)]\n",
    "        im = ax.imshow(grid)\n",
    "        \n",
    "        # Plot Connections\n",
    "        #ax.plot([0, 1], [0, 2], color=darker_grey)\n",
    "\n",
    "        for edge, spine in ax.spines.items():\n",
    "            spine.set_visible(False)\n",
    "\n",
    "        w, h = len(grid[0]), len(grid)\n",
    "        ax.set_xticks(range(w))\n",
    "        ax.set_yticks(range(h))\n",
    "        ax.set_xticklabels(range(w))\n",
    "        ax.set_yticklabels(range(h))\n",
    "        ax.set_xticks(np.arange(w+1)-.5, minor=True)\n",
    "        ax.set_yticks(np.arange(h+1)-.5, minor=True)\n",
    "        ax.grid(which=\"minor\", color=\"w\", linestyle='-', linewidth=1)\n",
    "        ax.tick_params(which=\"minor\", bottom=False, left=False)\n",
    "        \n",
    "        if task:\n",
    "            task.render(ax=ax)"
   ]
  },
  {
   "cell_type": "code",
   "execution_count": 24,
   "metadata": {},
   "outputs": [],
   "source": [
    "class NavigationTask:\n",
    "    \n",
    "    def __init__(self, env, goal_pos=(1,2)):\n",
    "        self.env = env\n",
    "        self.goal_pos = goal_pos\n",
    "\n",
    "        self.actions = dict(enumerate(['South', 'North', 'East', 'West']))\n",
    "\n",
    "        self.state_variables = ['agent_pos', 'goal_pos']\n",
    "        \n",
    "        self.title = 'Navigation Task'\n",
    "\n",
    "        self.reset()\n",
    "    \n",
    "    def reset(self):\n",
    "        self.agent_pos = [np.random.randint(0, self.env.width), np.random.randint(0, self.env.height)]\n",
    "        return self.state\n",
    "        \n",
    "    @property\n",
    "    def state(self):\n",
    "        \"\"\" All variables must be hashable --> tuple, not list \"\"\"\n",
    "        return State({'agent_pos': tuple(self.agent_pos), 'goal_pos': tuple(self.goal_pos)})\n",
    "    \n",
    "    def step(self, action):\n",
    "        \"\"\" South, North, East, West \"\"\"\n",
    "        reward = -1\n",
    "        done = False\n",
    "        \n",
    "        # South\n",
    "        if action == 0:            \n",
    "            self.agent_pos[1] = min(self.agent_pos[1] + 1, self.height - 1)\n",
    "        \n",
    "        # North\n",
    "        elif action == 1:\n",
    "            self.agent_pos[1] = max(self.agent_pos[1] - 1, 0)\n",
    "        \n",
    "        # East\n",
    "        elif action == 2:\n",
    "            self.agent_pos[0] = min(self.agent_pos[0] + 1, self.width - 1)\n",
    "        \n",
    "        # West\n",
    "        elif action == 3:\n",
    "            self.agent_pos[0] = max(self.agent_pos[0] - 1, 0)\n",
    "\n",
    "        if tuple(self.agent_pos) == self.goal_pos:\n",
    "            reward = 0\n",
    "            done = True\n",
    "\n",
    "        # state, reward, done, info\n",
    "        return self.state, reward, done\n",
    "\n",
    "    def render(self, ax=None):\n",
    "        if ax is None:\n",
    "            ax = plt.gca()\n",
    "        \n",
    "        ax.title.set_text(self.title)\n",
    "        ax.add_patch(plt.Circle(xy=self.agent_pos, radius=0.4, color=yellow))\n",
    "        ax.text(self.goal_pos[0], self.goal_pos[1], 'G', fontsize=16, horizontalalignment='center', verticalalignment='center')\n"
   ]
  },
  {
   "cell_type": "code",
   "execution_count": 25,
   "metadata": {},
   "outputs": [
    {
     "name": "stdout",
     "output_type": "stream",
     "text": [
      "Actions\t {0: 'South', 1: 'North', 2: 'East', 3: 'West'}\n",
      "State\t State(goal_pos=(2, 1), agent_pos=(5, 3))\n"
     ]
    },
    {
     "data": {
      "image/png": "[encoded data removed]",
      "text/plain": [
       "<Figure size 432x288 with 1 Axes>"
      ]
     },
     "metadata": {
      "image/png": {
       "height": 263,
       "width": 247
      },
      "needs_background": "light"
     },
     "output_type": "display_data"
    }
   ],
   "source": [
    "env = GridEnv(8, 8)\n",
    "task = NavigationTask(env, goal_pos=(2,1))\n",
    "\n",
    "print('Actions\\t', task.actions)\n",
    "print('State\\t', task.state)\n",
    "\n",
    "env.render(task)"
   ]
  },
  {
   "cell_type": "code",
   "execution_count": 26,
   "metadata": {},
   "outputs": [
    {
     "data": {
      "text/plain": [
       "(State(goal_pos=(2, 1), agent_pos=(5, 2)), -1, False)"
      ]
     },
     "execution_count": 26,
     "metadata": {},
     "output_type": "execute_result"
    },
    {
     "data": {
      "image/png": "[encoded data removed]",
      "text/plain": [
       "<Figure size 432x288 with 1 Axes>"
      ]
     },
     "metadata": {
      "image/png": {
       "height": 263,
       "width": 247
      },
      "needs_background": "light"
     },
     "output_type": "display_data"
    }
   ],
   "source": [
    "task.step(1)\n",
    "env.render(task)"
   ]
  },
  {
   "cell_type": "code",
   "execution_count": 36,
   "metadata": {},
   "outputs": [],
   "source": [
    "class TaxiTask:\n",
    "    \n",
    "    def __init__(self, env, landmarks=[[1,1], [7,0], [2,5], [5,7]]):\n",
    "        self.env = env\n",
    "        self.landmarks = landmarks\n",
    "        \n",
    "        self.actions = dict(enumerate(['South', 'North', 'East', 'West', 'Pickup', 'Dropoff']))\n",
    "        \n",
    "        self.state_variables = ['passenger_pos_idx', 'passenger_goal_idx']\n",
    "        \n",
    "        self.title = 'Taxi World'\n",
    "        \n",
    "        self.reset()\n",
    "        \n",
    "    def reset(self):\n",
    "        self.passenger_in_taxi = False\n",
    "        choices = np.random.choice(len(self.landmarks), size=2, replace=False)\n",
    "\n",
    "        self.passenger_pos = self.landmarks[choices[0]]\n",
    "        self.passenger_goal_pos = self.landmarks[choices[1]]\n",
    "        self.taxi_pos = [np.random.randint(0, self.env.width), np.random.randint(0, self.env.height)]\n",
    "\n",
    "        return self.state\n",
    "        \n",
    "    @property\n",
    "    def state(self):\n",
    "        if self.passenger_in_taxi:\n",
    "            passenger_pos_idx = len(self.landmarks)\n",
    "        else:\n",
    "            passenger_pos_idx = self.landmarks.index(self.passenger_pos)\n",
    "            \n",
    "        goal_idx = self.landmarks.index(self.passenger_goal_pos)\n",
    "\n",
    "        return State({'passenger_pos_idx': passenger_pos_idx, 'passenger_goal_idx': goal_idx})\n",
    "\n",
    "    def step(self, action):\n",
    "        reward = -1\n",
    "        done = False\n",
    "        \n",
    "        # South\n",
    "        if action == 0:\n",
    "            self.taxi_pos[1] = min(self.taxi_pos[1] + 1, self.env.height - 1)\n",
    "        \n",
    "        # North\n",
    "        elif action == 1:\n",
    "            self.taxi_pos[1] = max(self.taxi_pos[1] - 1, 0)\n",
    "        \n",
    "        # East\n",
    "        elif action == 2:\n",
    "            self.taxi_pos[0] = min(self.taxi_pos[0] + 1, self.env.width - 1)\n",
    "        \n",
    "        # West\n",
    "        elif action == 3:\n",
    "            self.taxi_pos[0] = max(self.taxi_pos[0] - 1, 0)\n",
    "        \n",
    "        # Pickup\n",
    "        elif action == 4:\n",
    "            if self.taxi_pos == self.passenger_pos and not self.passenger_in_taxi:\n",
    "                self.passenger_in_taxi = True\n",
    "            else:\n",
    "                reward = -10\n",
    "        \n",
    "        # Dropoff\n",
    "        elif action == 5:\n",
    "            if self.passenger_in_taxi and self.passenger_pos == self.passenger_goal_pos:\n",
    "                self.passenger_in_taxi = False\n",
    "                reward = 50\n",
    "                done = True\n",
    "            elif self.passenger_in_taxi and self.passenger_pos in self.landmarks:\n",
    "                self.passenger_in_taxi = False\n",
    "            else:\n",
    "                reward = -10\n",
    "        \n",
    "        if self.passenger_in_taxi:\n",
    "            self.passenger_pos = self.taxi_pos.copy()\n",
    "            \n",
    "        return self.state, reward, done\n",
    "    \n",
    "    def render(self, ax=None):\n",
    "        if ax is None:\n",
    "            ax = plt.gca()\n",
    "        \n",
    "        ax.title.set_text(self.title)\n",
    "        for landmark in self.landmarks:\n",
    "            ax.add_patch(plt.Circle(xy=landmark, radius=0.4, color=green))\n",
    "        ax.add_patch(plt.Circle(xy=self.taxi_pos, radius=0.4, color=yellow))\n",
    "        ax.add_patch(plt.Circle(xy=self.passenger_pos, radius=0.3, color=blue))\n",
    "        ax.text(self.passenger_goal_pos[0], self.passenger_goal_pos[1], 'G',\n",
    "                fontsize=16, horizontalalignment='center', verticalalignment='center')"
   ]
  },
  {
   "cell_type": "code",
   "execution_count": 39,
   "metadata": {},
   "outputs": [
    {
     "data": {
      "image/png": "[encoded data removed]",
      "text/plain": [
       "<Figure size 432x288 with 1 Axes>"
      ]
     },
     "metadata": {
      "image/png": {
       "height": 263,
       "width": 247
      },
      "needs_background": "light"
     },
     "output_type": "display_data"
    }
   ],
   "source": [
    "task = TaxiTask(env)\n",
    "env.render(task)"
   ]
  },
  {
   "cell_type": "code",
   "execution_count": 67,
   "metadata": {},
   "outputs": [
    {
     "data": {
      "text/plain": [
       "(State(passenger_pos_idx=3, passenger_goal_idx=3), -1, False)"
      ]
     },
     "execution_count": 67,
     "metadata": {},
     "output_type": "execute_result"
    },
    {
     "data": {
      "image/png": "[encoded data removed]",
      "text/plain": [
       "<Figure size 432x288 with 1 Axes>"
      ]
     },
     "metadata": {
      "image/png": {
       "height": 263,
       "width": 247
      },
      "needs_background": "light"
     },
     "output_type": "display_data"
    }
   ],
   "source": [
    "task.step(1)\n",
    "env.render(task)"
   ]
  }
 ],
 "metadata": {
  "kernelspec": {
   "display_name": "Python 3",
   "language": "python",
   "name": "python3"
  },
  "language_info": {
   "codemirror_mode": {
    "name": "ipython",
    "version": 3
   },
   "file_extension": ".py",
   "mimetype": "text/x-python",
   "name": "python",
   "nbconvert_exporter": "python",
   "pygments_lexer": "ipython3",
   "version": "3.5.2"
  }
 },
 "nbformat": 4,
 "nbformat_minor": 2
}
