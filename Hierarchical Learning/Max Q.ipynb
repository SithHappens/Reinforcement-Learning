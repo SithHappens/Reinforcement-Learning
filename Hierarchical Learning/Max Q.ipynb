{
 "cells": [
  {
   "cell_type": "markdown",
   "metadata": {},
   "source": [
    "# Experiments With Hierarchical Tasks"
   ]
  },
  {
   "cell_type": "code",
   "execution_count": 1,
   "metadata": {},
   "outputs": [],
   "source": [
    "import numpy as np\n",
    "import matplotlib.pyplot as plt\n",
    "from collections import defaultdict\n",
    "from progressbar import progressbar\n",
    "import time"
   ]
  },
  {
   "cell_type": "code",
   "execution_count": 2,
   "metadata": {},
   "outputs": [],
   "source": [
    "# This prints the output of all variables, not just the last one\n",
    "from IPython.core.interactiveshell import InteractiveShell\n",
    "InteractiveShell.ast_node_interactivity = \"all\"\n",
    "\n",
    "# This makes plots with higher resolutions\n",
    "%config InlineBackend.figure_format ='retina'\n",
    "plt.rcParams[\"figure.figsize\"] = (12,6)\n",
    "\n",
    "light_grey = [0.8,0.8,0.8]\n",
    "darker_grey = [0.6,0.6,0.6]\n",
    "yellow = [1.0,1.0,0.0]\n",
    "blue = [0.4,0.8,1.0]\n",
    "green = [0.2,1.0,0.4]"
   ]
  },
  {
   "cell_type": "markdown",
   "metadata": {},
   "source": [
    "## States and Actions"
   ]
  },
  {
   "cell_type": "code",
   "execution_count": 3,
   "metadata": {},
   "outputs": [
    {
     "data": {
      "text/plain": [
       "State(y=6, x=5)"
      ]
     },
     "execution_count": 3,
     "metadata": {},
     "output_type": "execute_result"
    }
   ],
   "source": [
    "#from dataclasses import dataclass\n",
    "\n",
    "# TODO Should this be a dataclass?\n",
    "class State:\n",
    "    \"\"\" State should be Immutable.\n",
    "        States with the same variables and same values are equal and have the same hash.\n",
    "    \"\"\"\n",
    "    def __init__(self, variables):\n",
    "        ''' variables should be a dict\n",
    "        '''\n",
    "        for var, value in variables.items():\n",
    "            setattr(self, var, value)\n",
    "\n",
    "    def get(self):\n",
    "        return dict(self.__dict__.items())\n",
    "\n",
    "    def __str__(self):\n",
    "        s = 'State('\n",
    "        for key, value in self.get().items():\n",
    "            s += str(key) + '=' + str(value) + ', '\n",
    "        s = s[:-2] + ')'\n",
    "        return s\n",
    "\n",
    "    def __repr__(self):\n",
    "        return str(self)\n",
    "\n",
    "    def __eq__(self, other):\n",
    "        return self.get() == other.get()\n",
    "\n",
    "    def __ne__(self, other):\n",
    "        return not(self == other)\n",
    "    \n",
    "    def __add__(self, other):\n",
    "        return State({**self.get(), **other.get()})\n",
    "\n",
    "    def __hash__(self):\n",
    "        variables = tuple([i for var in self.get().items() for i in var])\n",
    "        return hash(variables)\n",
    "\n",
    "State({'x': 5, 'y': 6})"
   ]
  },
  {
   "cell_type": "code",
   "execution_count": 4,
   "metadata": {},
   "outputs": [],
   "source": [
    "class Action:\n",
    "    \n",
    "    all_actions = {}\n",
    "    \n",
    "    def __init__(self, name):\n",
    "        self.name = name\n",
    "        self.number = Action.all_actions[name] if name in Action.all_actions else len(Action.all_actions)\n",
    "        Action.all_actions[self.name] = self.number\n",
    "        \n",
    "    def __eq__(self, other):\n",
    "        return self.number == other.number\n",
    "    \n",
    "    def __ne__(self, other):\n",
    "        return not(self == other)\n",
    "    \n",
    "    def __hash__(self):\n",
    "        return hash(self.number)\n",
    "    \n",
    "    def __str__(self):\n",
    "        return 'Action: {} ({})'.format(self.name, self.number)\n",
    "    \n",
    "    def __repr__(self):\n",
    "        return str(self)"
   ]
  },
  {
   "cell_type": "markdown",
   "metadata": {},
   "source": [
    "## Grid Environment"
   ]
  },
  {
   "cell_type": "code",
   "execution_count": 5,
   "metadata": {},
   "outputs": [],
   "source": [
    "class GridEnv:\n",
    "    \n",
    "    def __init__(self, height=10, width=10):        \n",
    "        self.width, self.height = width, height\n",
    "\n",
    "    def render(self, task=None, ax=None):\n",
    "        if ax is None:\n",
    "            ax = plt.gca()\n",
    "\n",
    "        ax.clear()\n",
    "        ax.title.set_text('Grid Env')\n",
    "\n",
    "        # Plot the grid\n",
    "        grid = [[ light_grey for i in range(self.width)] for j in range(self.height)]\n",
    "        im = ax.imshow(grid)\n",
    "        \n",
    "        # Plot Connections\n",
    "        #ax.plot([0, 1], [0, 2], color=darker_grey)\n",
    "\n",
    "        for edge, spine in ax.spines.items():\n",
    "            spine.set_visible(False)\n",
    "\n",
    "        w, h = len(grid[0]), len(grid)\n",
    "        ax.set_xticks(range(w))\n",
    "        ax.set_yticks(range(h))\n",
    "        ax.set_xticklabels(range(w))\n",
    "        ax.set_yticklabels(range(h))\n",
    "        ax.set_xticks(np.arange(w+1)-.5, minor=True)\n",
    "        ax.set_yticks(np.arange(h+1)-.5, minor=True)\n",
    "        ax.grid(which=\"minor\", color=\"w\", linestyle='-', linewidth=1)\n",
    "        ax.tick_params(which=\"minor\", bottom=False, left=False)\n",
    "        \n",
    "        if task:\n",
    "            task.render(ax=ax)\n",
    "\n",
    "env = GridEnv(8, 8)"
   ]
  },
  {
   "cell_type": "markdown",
   "metadata": {},
   "source": [
    "## Navigation Task"
   ]
  },
  {
   "cell_type": "code",
   "execution_count": 6,
   "metadata": {},
   "outputs": [],
   "source": [
    "class NavigationTask:\n",
    "    \n",
    "    def __init__(self, env, goal_pos=(1,2)):\n",
    "        self.env = env\n",
    "        self.goal_pos = goal_pos\n",
    "\n",
    "        self.actions = [Action('South'), Action('North'), Action('East'), Action('West')]\n",
    "\n",
    "        self.state_variables = ['agent_pos', 'goal_pos']\n",
    "        \n",
    "        self.title = 'Navigation Task'\n",
    "\n",
    "        self.reset()\n",
    "    \n",
    "    def reset(self):\n",
    "        self.agent_pos = [np.random.randint(0, self.env.width), np.random.randint(0, self.env.height)]\n",
    "        return self.state\n",
    "        \n",
    "    @property\n",
    "    def state(self):\n",
    "        \"\"\" All variables must be hashable --> tuple, not list \"\"\"\n",
    "        return State({'agent_pos': tuple(self.agent_pos), 'goal_pos': tuple(self.goal_pos)})\n",
    "    \n",
    "    def step(self, action):\n",
    "        \"\"\" South, North, East, West \"\"\"\n",
    "        reward = -1\n",
    "        done = False\n",
    "        \n",
    "        if action == Action('South'):            \n",
    "            self.agent_pos[1] = min(self.agent_pos[1] + 1, self.env.height - 1)\n",
    "        \n",
    "        elif action == Action('North'):\n",
    "            self.agent_pos[1] = max(self.agent_pos[1] - 1, 0)\n",
    "        \n",
    "        elif action == Action('East'):\n",
    "            self.agent_pos[0] = min(self.agent_pos[0] + 1, self.env.width - 1)\n",
    "\n",
    "        elif action == Action('West'):\n",
    "            self.agent_pos[0] = max(self.agent_pos[0] - 1, 0)\n",
    "\n",
    "        if tuple(self.agent_pos) == self.goal_pos:\n",
    "            reward = 0\n",
    "            done = True\n",
    "\n",
    "        # state, reward, done, info\n",
    "        return self.state, reward, done\n",
    "\n",
    "    def render(self, ax=None):\n",
    "        if ax is None:\n",
    "            ax = plt.gca()\n",
    "        \n",
    "        ax.title.set_text(self.title)\n",
    "        ax.add_patch(plt.Circle(xy=self.agent_pos, radius=0.4, color=yellow))\n",
    "        ax.text(self.goal_pos[0], self.goal_pos[1], 'G', fontsize=16, horizontalalignment='center', verticalalignment='center')\n",
    "\n",
    "        \n",
    "nav_task = NavigationTask(env, goal_pos=(2,1))"
   ]
  },
  {
   "cell_type": "code",
   "execution_count": 7,
   "metadata": {},
   "outputs": [
    {
     "name": "stdout",
     "output_type": "stream",
     "text": [
      "Actions\t [Action: South (0), Action: North (1), Action: East (2), Action: West (3)]\n",
      "State\t State(agent_pos=(7, 5), goal_pos=(2, 1))\n"
     ]
    },
    {
     "data": {
      "image/png": "[encoded data removed]",
      "text/plain": [
       "<Figure size 864x432 with 1 Axes>"
      ]
     },
     "metadata": {
      "image/png": {
       "height": 372,
       "width": 355
      },
      "needs_background": "light"
     },
     "output_type": "display_data"
    }
   ],
   "source": [
    "print('Actions\\t', nav_task.actions)\n",
    "print('State\\t', nav_task.state)\n",
    "\n",
    "env.render(nav_task)"
   ]
  },
  {
   "cell_type": "markdown",
   "metadata": {},
   "source": [
    "## Taxi Task"
   ]
  },
  {
   "cell_type": "code",
   "execution_count": 8,
   "metadata": {},
   "outputs": [],
   "source": [
    "class TaxiTask:\n",
    "    \n",
    "    def __init__(self, env, landmarks=[[1,1], [7,0], [2,5], [5,7]]):\n",
    "        self.env = env\n",
    "        self.landmarks = landmarks\n",
    "        \n",
    "        self.actions = [Action('South'), Action('North'), Action('East'), Action('West'),\n",
    "                        Action('Pickup'), Action('Dropoff')]\n",
    "        \n",
    "        self.state_variables = ['passenger_pos_idx', 'passenger_goal_idx']\n",
    "        \n",
    "        self.title = 'Taxi World'\n",
    "        \n",
    "        self.reset()\n",
    "        \n",
    "    def reset(self):\n",
    "        self.passenger_in_taxi = False\n",
    "        choices = np.random.choice(len(self.landmarks), size=2, replace=False)\n",
    "\n",
    "        self.passenger_pos = self.landmarks[choices[0]]\n",
    "        self.passenger_goal_pos = self.landmarks[choices[1]]\n",
    "        self.taxi_pos = [np.random.randint(0, self.env.width), np.random.randint(0, self.env.height)]\n",
    "\n",
    "        return self.state\n",
    "        \n",
    "    @property\n",
    "    def state(self):\n",
    "        if self.passenger_in_taxi:\n",
    "            passenger_pos_idx = len(self.landmarks)\n",
    "        else:\n",
    "            passenger_pos_idx = self.landmarks.index(self.passenger_pos)\n",
    "            \n",
    "        goal_idx = self.landmarks.index(self.passenger_goal_pos)\n",
    "\n",
    "        return State({'agent_pos': self.taxi_pos, 'passenger_pos_idx': passenger_pos_idx, 'passenger_goal_idx': goal_idx})\n",
    "\n",
    "    def step(self, action):\n",
    "        reward = -1\n",
    "        done = False\n",
    "        \n",
    "        if action == Action('South'):\n",
    "            self.taxi_pos[1] = min(self.taxi_pos[1] + 1, self.env.height - 1)\n",
    "        \n",
    "        elif action == Action('North'):\n",
    "            self.taxi_pos[1] = max(self.taxi_pos[1] - 1, 0)\n",
    "        \n",
    "        elif action == Action('East'):\n",
    "            self.taxi_pos[0] = min(self.taxi_pos[0] + 1, self.env.width - 1)\n",
    "        \n",
    "        elif action == Action('West'):\n",
    "            self.taxi_pos[0] = max(self.taxi_pos[0] - 1, 0)\n",
    "        \n",
    "        elif action == Action('Pickup'):\n",
    "            if self.taxi_pos == self.passenger_pos and not self.passenger_in_taxi:\n",
    "                self.passenger_in_taxi = True\n",
    "            else:\n",
    "                reward = -10\n",
    "        \n",
    "        elif action == Action('Dropoff'):\n",
    "            if self.passenger_in_taxi and self.passenger_pos == self.passenger_goal_pos:\n",
    "                self.passenger_in_taxi = False\n",
    "                reward = 50\n",
    "                done = True\n",
    "            elif self.passenger_in_taxi and self.passenger_pos in self.landmarks:\n",
    "                self.passenger_in_taxi = False\n",
    "            else:\n",
    "                reward = -10\n",
    "        \n",
    "        if self.passenger_in_taxi:\n",
    "            self.passenger_pos = self.taxi_pos.copy()\n",
    "            \n",
    "        return self.state, reward, done\n",
    "    \n",
    "    def render(self, ax=None):\n",
    "        if ax is None:\n",
    "            ax = plt.gca()\n",
    "        \n",
    "        ax.title.set_text(self.title)\n",
    "        for landmark in self.landmarks:\n",
    "            ax.add_patch(plt.Circle(xy=landmark, radius=0.4, color=darker_grey))\n",
    "        ax.add_patch(plt.Circle(xy=self.taxi_pos, radius=0.4, color=yellow))\n",
    "        ax.add_patch(plt.Circle(xy=self.passenger_pos, radius=0.25, color=blue))\n",
    "        ax.text(self.passenger_goal_pos[0], self.passenger_goal_pos[1], 'G',\n",
    "                fontsize=16, horizontalalignment='center', verticalalignment='center')"
   ]
  },
  {
   "cell_type": "code",
   "execution_count": 9,
   "metadata": {
    "scrolled": false
   },
   "outputs": [
    {
     "name": "stdout",
     "output_type": "stream",
     "text": [
      "Actions\t [Action: South (0), Action: North (1), Action: East (2), Action: West (3), Action: Pickup (4), Action: Dropoff (5)]\n",
      "State\t State(agent_pos=[5, 0], passenger_pos_idx=3, passenger_goal_idx=1)\n"
     ]
    },
    {
     "data": {
      "image/png": "[encoded data removed]",
      "text/plain": [
       "<Figure size 864x432 with 1 Axes>"
      ]
     },
     "metadata": {
      "image/png": {
       "height": 372,
       "width": 355
      },
      "needs_background": "light"
     },
     "output_type": "display_data"
    }
   ],
   "source": [
    "taxi_task = TaxiTask(env)\n",
    "\n",
    "print('Actions\\t', taxi_task.actions)\n",
    "print('State\\t', taxi_task.state)\n",
    "\n",
    "env.render(taxi_task)"
   ]
  },
  {
   "cell_type": "markdown",
   "metadata": {},
   "source": [
    "## How can we combine the State Spaces of Hierarchical Tasks?"
   ]
  },
  {
   "cell_type": "code",
   "execution_count": 10,
   "metadata": {},
   "outputs": [
    {
     "data": {
      "text/plain": [
       "State(agent_pos=(6, 5), goal_pos=(2, 1))"
      ]
     },
     "execution_count": 10,
     "metadata": {},
     "output_type": "execute_result"
    },
    {
     "data": {
      "text/plain": [
       "State(agent_pos=[7, 3], passenger_pos_idx=0, passenger_goal_idx=2)"
      ]
     },
     "execution_count": 10,
     "metadata": {},
     "output_type": "execute_result"
    }
   ],
   "source": [
    "s1 = nav_task.reset()\n",
    "s1\n",
    "s2 = taxi_task.reset()\n",
    "s2"
   ]
  },
  {
   "cell_type": "code",
   "execution_count": 11,
   "metadata": {},
   "outputs": [
    {
     "data": {
      "text/plain": [
       "{Action: East (2): 0,\n",
       " Action: North (1): 100,\n",
       " Action: South (0): 0,\n",
       " Action: West (3): 0}"
      ]
     },
     "execution_count": 11,
     "metadata": {},
     "output_type": "execute_result"
    },
    {
     "data": {
      "text/plain": [
       "100"
      ]
     },
     "execution_count": 11,
     "metadata": {},
     "output_type": "execute_result"
    },
    {
     "data": {
      "text/plain": [
       "Action: North (1)"
      ]
     },
     "execution_count": 11,
     "metadata": {},
     "output_type": "execute_result"
    }
   ],
   "source": [
    "Q = defaultdict(lambda: {action: 0 for action in nav_task.actions})\n",
    "Q[State({'0':0})][Action('North')] = 100\n",
    "d = Q[State({'0':0})]\n",
    "d\n",
    "max(d.values())\n",
    "max(d, key=d.get)"
   ]
  },
  {
   "cell_type": "markdown",
   "metadata": {},
   "source": [
    "## Q Agent"
   ]
  },
  {
   "cell_type": "code",
   "execution_count": 12,
   "metadata": {},
   "outputs": [],
   "source": [
    "class Q_Agent:\n",
    "    \n",
    "    def __init__(self, env, lr=0.5, gamma=0.99):\n",
    "        self.env = env\n",
    "        self.alpha = lr\n",
    "        self.gamma = gamma  # discount\n",
    "        \n",
    "        self.reset()\n",
    "        \n",
    "    def reset(self):\n",
    "        self.Q = defaultdict(lambda: {action: 0 for action in self.env.actions})\n",
    "    \n",
    "    def greedy_policy(self, state):\n",
    "        \"\"\"Returns the action with the highest Q-Value.\"\"\"\n",
    "        action = max(self.Q[state], key=self.Q[state].get)\n",
    "        return action\n",
    "    \n",
    "    def exploration_policy(self, state, temperature=10):\n",
    "        \"\"\"Returns action according to the Gibbs distribution.\"\"\"\n",
    "        actions, action_vals = np.array(list(self.Q[state].keys())), np.array(list(self.Q[state].values()))\n",
    "        p = np.exp(1 / temperature * action_vals)\n",
    "        p /= np.sum(p)\n",
    "        action = np.random.choice(actions, p=p)\n",
    "        return action\n",
    "    \n",
    "    def update(self, state, action, next_state, reward):\n",
    "        self.Q[state][action] = (1 - self.alpha) * self.Q[state][action] + self.alpha * (reward + self.gamma * max(self.Q[next_state].values()))\n",
    "    \n",
    "    def execute_episode(self, max_episode_len=60):\n",
    "        state = self.env.reset()\n",
    "        episode_reward = 0\n",
    "        num_steps = 0\n",
    "        done = False\n",
    "        \n",
    "        while not done and num_steps < max_episode_len:\n",
    "            action = self.greedy_policy(state)\n",
    "            next_state, reward, done = self.env.step(action)\n",
    "            \n",
    "            episode_reward += reward\n",
    "            num_steps += 1\n",
    "            \n",
    "            state = next_state\n",
    "        \n",
    "        return episode_reward, num_steps\n",
    "    \n",
    "    def test_policy(self, num_runs, max_episode_len):\n",
    "        avg_reward, avg_num_steps, avg_reward_per_step = [], [], []\n",
    "        \n",
    "        for _ in range(num_runs):\n",
    "            episode_reward, num_steps = self.execute_episode(max_episode_len=max_episode_len)\n",
    "            avg_reward.append(episode_reward)\n",
    "            avg_num_steps.append(num_steps)\n",
    "            avg_reward_per_step.append(episode_reward / num_steps)\n",
    "        \n",
    "        return np.mean(avg_reward), np.mean(avg_num_steps), np.mean(avg_reward_per_step)\n",
    "    \n",
    "    def learn(self, num_episodes, max_episode_len=300):\n",
    "        global_step = 0\n",
    "        training_log = defaultdict(list)\n",
    "        training_log['learning_rate'] = self.alpha\n",
    "        training_log['discount'] = self.gamma\n",
    "        \n",
    "        for episode in progressbar(range(num_episodes)):\n",
    "\n",
    "            state = self.env.reset()\n",
    "            episode_reward = 0\n",
    "\n",
    "            for step in range(max_episode_len):\n",
    "\n",
    "                action = self.exploration_policy(state)\n",
    "                next_state, reward, done = self.env.step(action)\n",
    "                self.update(state, action, next_state, reward)\n",
    "                \n",
    "                global_step += 1\n",
    "                \n",
    "                if global_step % 1000 == 0:\n",
    "                    avg_reward, _, _ = self.test_policy(num_runs=100, max_episode_len=60)\n",
    "                    training_log['global_training_step'].append(global_step)\n",
    "                    training_log['avg_reward_per_episode'].append(avg_reward)\n",
    "\n",
    "                if done:\n",
    "                    break\n",
    "\n",
    "                state = next_state\n",
    "        \n",
    "        return training_log"
   ]
  },
  {
   "cell_type": "code",
   "execution_count": 13,
   "metadata": {},
   "outputs": [
    {
     "name": "stderr",
     "output_type": "stream",
     "text": [
      "100% (150 of 150) |######################| Elapsed Time: 0:00:03 Time:  0:00:03\n"
     ]
    },
    {
     "data": {
      "image/png": "[encoded data removed]",
      "text/plain": [
       "<Figure size 864x432 with 1 Axes>"
      ]
     },
     "metadata": {
      "image/png": {
       "height": 386,
       "width": 727
      },
      "needs_background": "light"
     },
     "output_type": "display_data"
    }
   ],
   "source": [
    "nav_q_agent = Q_Agent(env=nav_task)\n",
    "\n",
    "log = nav_q_agent.learn(num_episodes=150, max_episode_len=300)\n",
    "\n",
    "plt.plot(log['global_training_step'], log['avg_reward_per_episode']);\n",
    "plt.title('{} - Q Agent - Greedy Policy (lr={}, gamma={})'.format(nav_task.title, log['learning_rate'], log['discount']));\n",
    "plt.xlabel('Global Training Step');\n",
    "plt.ylabel('Average Episode Reward');"
   ]
  },
  {
   "cell_type": "markdown",
   "metadata": {},
   "source": [
    "## Render Task Execution"
   ]
  },
  {
   "cell_type": "markdown",
   "metadata": {},
   "source": [
    "``` python\n",
    "fig, ax = plt.subplots()\n",
    "\n",
    "state = agent.env.reset()\n",
    "done = False\n",
    "env.render()\n",
    "agent.env.render()\n",
    "\n",
    "while not done:\n",
    "    action = agent.greedy_policy(state)\n",
    "    next_state, reward, done = agent.env.step(action)\n",
    "\n",
    "    plt.cla()\n",
    "    env.render()\n",
    "    agent.env.render()\n",
    "    plt.draw()\n",
    "    plt.pause(0.1)\n",
    "\n",
    "    state = next_state\n",
    "```"
   ]
  }
 ],
 "metadata": {
  "kernelspec": {
   "display_name": "Python 3",
   "language": "python",
   "name": "python3"
  },
  "language_info": {
   "codemirror_mode": {
    "name": "ipython",
    "version": 3
   },
   "file_extension": ".py",
   "mimetype": "text/x-python",
   "name": "python",
   "nbconvert_exporter": "python",
   "pygments_lexer": "ipython3",
   "version": "3.5.2"
  }
 },
 "nbformat": 4,
 "nbformat_minor": 2
}
